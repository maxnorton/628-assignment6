{
 "cells": [
  {
   "cell_type": "markdown",
   "metadata": {},
   "source": [
    "# Assignment 6\n",
    "Max Norton  \n",
    "November 3, 2018"
   ]
  },
  {
   "cell_type": "code",
   "execution_count": 1,
   "metadata": {},
   "outputs": [],
   "source": [
    "using InstantiateFromURL\n",
    "activate_github(\"QuantEcon/QuantEconLecturePackages\", tag = \"v0.3.1\") # activate the QuantEcon environment\n",
    "\n",
    "using LinearAlgebra, Statistics, Compat # load common packages"
   ]
  },
  {
   "cell_type": "markdown",
   "metadata": {},
   "source": [
    "### Exercise 1\n",
    "\n",
    "Explore the package [StaticArrays.jl](https://github.com/JuliaArrays/StaticArrays.jl)\n",
    "\n",
    "**Describe 2 abstract types and the hierarchy of 3 different concrete types**"
   ]
  },
  {
   "cell_type": "markdown",
   "metadata": {},
   "source": [
    "The general idea of StaticArray.jl is to introduce a set of types of arrays (including both vectors and matrices) that are parameterized by their size, aka their dimensions. That is, rather than size being a property of the array itself, size is stored as a property of the type. This apparently has performance-enhancing effects have arrays up to a certain size (estimated to be around 100 elements). I guess an example of how this performance enhancement might occur is that the compiler could check that two arrays are dimensionally matched such that the operation is defined.\n",
    "\n",
    "The most important abstract type introduced is `StaticArray{Size,T,N}` which has parent type `AbstractArray{T,N}`. So StaticArray is just an AbstractArray with elements of type T and number of dimensions N, where the actual dimensions `Size` are made a type parameter in the form of a tuple. So if a StaticArray was 2x2, it would have size (2,2) and N of 2. Analogously to the same way that a Matrix is a DenseArray where the type itself conveys the information that N=2, a StaticArray is an AbstractArray where the type itself carries information about size.\n",
    "\n",
    "Most of the concrete types introduced in StaticArrays are descendants of `StaticArray`. In addition to size, concrete types of StaticArrays also include length (number of elements) as a parameter of the type. For instance,\n",
    "\n",
    "1. `SArray{Size,T,N,L}` is an immutable, concrete type of StaticArray with four parameters: \n",
    "\n",
    " - Size, a tuple given the dimensions of its contents\n",
    " - T, a type (or, probably suboptimally, I'd guess it can be an array of types)\n",
    " - N, the number of dimensions (i.e. the number of entries in Size. This parameter isn't mentioned in the StaticArrays.jl documentation, but it's clearly there in the type\n",
    " - L, the length, i.e. the product of the elements of Size\n",
    "\n",
    "Hierarchy: `SArray{Size,T,N,L} <: StaticArray{Size,T,N} <: AbstractArray{T,N} <: Any`\n",
    "\n",
    "2. `MArray{Size,T,N,L}` is a mutable concrete type that is otherwise exactly like `SArray`.\n",
    "\n",
    "Hierarchy: `MArray{Size,T,N,L} <: StaticArray{Size,T,N} <: AbstractArray{T,N} <: Any`\n",
    "\n",
    "3. `SVector{Size, T}` is a static array in one dimension. It requires fewer parameters because for any SVector, size = 1 x length.\n",
    "\n",
    "Hierarchy: `SVector{Size,T} <: StaticArray{Size,T,1} <: AbstractArray{T,1} <: Any`\n",
    "\n",
    "Other concrete types work in similar ways. For example, there is a `SMatrix{Size1, Size2, T, L}` which is inherently 2-dimensional (so it has no N) but since the sizes of each of its dimensions depends on the instance, it has two size parameters and a length parameter. There are also equivalent `MVector` and `MMatrix` types. Further, there's another concrete type, `SizedArray`. I don't completely follow the difference between this and SArray.\n",
    "\n",
    "Another (the other, I think) abstract type introduced in the package is `FieldVector(N, T)`. This is included to enable the creation of bespoke concrete vector types beneath it that inherit the performance benefit of including the size (i.e. length) as a type parameter. These concrete types can be mutable or immutable. For example, you might use an immutable concrete type that inherits `FieldVector` in the same way you'd use a named tuple, but with a performance boost for some types of dimension-dependent operations."
   ]
  },
  {
   "cell_type": "markdown",
   "metadata": {},
   "source": [
    "**Benchmark the calculation of some simple linear algebra with a static array compared to the following for a dense arrays for N=3 and N=15**"
   ]
  },
  {
   "cell_type": "code",
   "execution_count": 2,
   "metadata": {},
   "outputs": [
    {
     "name": "stdout",
     "output_type": "stream",
     "text": [
      "  89.738 ns (1 allocation: 112 bytes)\n",
      "  654.386 ns (5 allocations: 1.98 KiB)\n",
      "  147.362 ns (1 allocation: 208 bytes)\n",
      "  24.900 μs (5 allocations: 9.88 KiB)\n"
     ]
    }
   ],
   "source": [
    "using BenchmarkTools, StaticArrays\n",
    "N = [3, 15]\n",
    "a, A = rand.(N, N)\n",
    "x, X = rand.(N)\n",
    "@btime $a * $x\n",
    "@btime inv($a)\n",
    "\n",
    "@btime $A * $X\n",
    "@btime inv($A);"
   ]
  },
  {
   "cell_type": "code",
   "execution_count": 3,
   "metadata": {},
   "outputs": [
    {
     "name": "stdout",
     "output_type": "stream",
     "text": [
      "  4.204 ns (0 allocations: 0 bytes)\n",
      "  21.875 ns (0 allocations: 0 bytes)\n",
      "  479.592 ns (2 allocations: 1.89 KiB)\n",
      "  28.800 μs (6 allocations: 11.86 KiB)\n"
     ]
    }
   ],
   "source": [
    "sta=SMatrix{N[1],N[1]}(a)\n",
    "stA=SMatrix{N[2],N[2]}(A) # would be cool to combine these lines\n",
    "stx=SVector{N[1]}(x)\n",
    "stX=SVector{N[2]}(X)\n",
    "@btime $sta * $stx\n",
    "@btime inv($sta)\n",
    "\n",
    "@btime $stA * stX\n",
    "@btime inv($stA);"
   ]
  },
  {
   "cell_type": "markdown",
   "metadata": {},
   "source": [
    "Observation: Much faster with static arrays in the 3x3 case (L=9<100); static arrays slower in the 15x15 multiplication operation (L=225>100); the 15x15 inverse results are not noticeably sensitive to the type choice."
   ]
  },
  {
   "cell_type": "markdown",
   "metadata": {},
   "source": [
    "### Exercise 2\n",
    "\n",
    "**Benchmark the Kalman gain using Static Arrays.**"
   ]
  },
  {
   "cell_type": "code",
   "execution_count": 149,
   "metadata": {},
   "outputs": [
    {
     "name": "stdout",
     "output_type": "stream",
     "text": [
      "  765.103 ns (10 allocations: 1.94 KiB)\n"
     ]
    }
   ],
   "source": [
    "Σ = [0.4  0.3;\n",
    "    0.3 0.45]\n",
    "G = I\n",
    "R = 0.5 * Σ\n",
    "\n",
    "gain(Σ, G, R) = Σ * G' * inv(G * Σ * G' + R)\n",
    "@btime gain($Σ, $G, $R);"
   ]
  },
  {
   "cell_type": "code",
   "execution_count": 152,
   "metadata": {},
   "outputs": [
    {
     "name": "stdout",
     "output_type": "stream",
     "text": [
      "  21.486 ns (0 allocations: 0 bytes)\n"
     ]
    }
   ],
   "source": [
    "Σst=SMatrix{2,2}(Σ); Gst = SMatrix{2,2}(G); Rst = SMatrix{2,2}(R);\n",
    "\n",
    "@btime gain($Σst, $Gst, $Rst);"
   ]
  },
  {
   "cell_type": "markdown",
   "metadata": {},
   "source": [
    "Using Static arrays gives us a 765.103/21.486 = 35.6x speedup."
   ]
  },
  {
   "cell_type": "markdown",
   "metadata": {},
   "source": [
    "### Exercise 3"
   ]
  },
  {
   "cell_type": "code",
   "execution_count": 4,
   "metadata": {},
   "outputs": [
    {
     "name": "stdout",
     "output_type": "stream",
     "text": [
      "p = Poly(2 - 5*x + 2*x^2)\n",
      "(p(0.1), p′(0.1)) = (1.52, -4.6)\n",
      "roots(p) = [2.0, 0.5]\n"
     ]
    }
   ],
   "source": [
    "using Polynomials\n",
    "p = Poly([2, -5, 2], :x) # :x just gives a symbol for display\n",
    "@show p\n",
    "p′ = polyder(p) # gives the derivative of p, another polynomial\n",
    "@show p(0.1), p′(0.1) # call like a function\n",
    "@show roots(p); # find roots such that p(x) = 0"
   ]
  },
  {
   "cell_type": "markdown",
   "metadata": {},
   "source": [
    "**Plot both `p(x)` and `p′(x)` for $ x \\in [-2, 2] $**"
   ]
  },
  {
   "cell_type": "code",
   "execution_count": 5,
   "metadata": {},
   "outputs": [
    {
     "data": {
      "image/png": "[encoded data removed]"
     },
     "execution_count": 5,
     "metadata": {},
     "output_type": "execute_result"
    }
   ],
   "source": [
    "using Plots\n",
    "gr(fmt=:png)\n",
    "\n",
    "plot(x -> p(x), -2, 2, label=\"p\")\n",
    "plot!(x -> p′(x), -2, 2, label=\"p prime\")"
   ]
  },
  {
   "cell_type": "code",
   "execution_count": 6,
   "metadata": {},
   "outputs": [
    {
     "name": "stdout",
     "output_type": "stream",
     "text": [
      "roots(p′) = [1.25]\n"
     ]
    },
    {
     "data": {
      "text/plain": [
       "1-element Array{Float64,1}:\n",
       " 1.25"
      ]
     },
     "execution_count": 6,
     "metadata": {},
     "output_type": "execute_result"
    }
   ],
   "source": [
    "#root of p′ looks weird\n",
    "@show roots(p′)"
   ]
  },
  {
   "cell_type": "markdown",
   "metadata": {},
   "source": [
    "$-5 + 4 \\times 1.25 = -5 + 5 = 0$\n",
    "\n",
    "ok, it's correct"
   ]
  },
  {
   "cell_type": "markdown",
   "metadata": {},
   "source": [
    "### Exercise 4\n",
    "\n",
    "Using your solution to Exercise 8(a/b) in the [Julia By Example Lecture](julia_by_example) to create a specialized version of Newton’s method for Polynomials, using the `polyder` function\n",
    "\n",
    "The signature of the function should be `newtonsmethod(p::Poly, x_0; tolerance = 1E-7, maxiter = 100)`, where the `p::Poly` ensure that this version of the function will be used anytime a polynomial is passed (i.e. dispatch)\n",
    "\n",
    "Compare the results of this function to the built in `roots(p)`"
   ]
  },
  {
   "cell_type": "code",
   "execution_count": 17,
   "metadata": {},
   "outputs": [
    {
     "name": "stdout",
     "output_type": "stream",
     "text": [
      "  1.540 μs (9 allocations: 4.59 KiB)\n",
      "  3.556 μs (24 allocations: 2.34 KiB)\n"
     ]
    }
   ],
   "source": [
    "using ForwardDiff\n",
    "\n",
    "# from the old assignment\n",
    "function newtonsmethod(f, x_0; tolerance = 1E-7, maxiter = 1000)\n",
    "    @assert false # Only calling newtonsmethod on p, so if I actually enter this old version, there's something wrong\n",
    "    Diff(f) = x -> ForwardDiff.derivative(f, x)\n",
    "    f_prime = Diff(f)\n",
    "    x_old = x_0\n",
    "    normdiff = Inf\n",
    "    iter = 1\n",
    "    while normdiff > tolerance && iter <= maxiter\n",
    "        x_new = x_old - f(x_old)/f_prime(x_old) #implement the Newtom alg\n",
    "        normdiff = norm(x_new - x_old)\n",
    "        x_old = x_new\n",
    "        iter += 1\n",
    "    end\n",
    "    return (x_old, normdiff, iter)\n",
    "end\n",
    "\n",
    "\n",
    "# new method\n",
    "function newtonsmethod(p::Poly, x_0; tolerance = 1E-7, maxiter=100)\n",
    "    p_prime = polyder(p)\n",
    "    x_old = x_0\n",
    "    normdiff = Inf\n",
    "    iter = 1\n",
    "    while normdiff > tolerance && iter <= maxiter\n",
    "        x_new = x_old - f(x_old)/p_prime(x_old) #implement the Newtom alg\n",
    "        normdiff = norm(x_new - x_old)\n",
    "        x_old = x_new\n",
    "        iter += 1\n",
    "    end\n",
    "    return (x_old, normdiff, iter)\n",
    "end\n",
    "\n",
    "\n",
    "@btime newtonsmethod(p, 0)\n",
    "@btime roots(p);"
   ]
  },
  {
   "cell_type": "markdown",
   "metadata": {},
   "source": [
    "My function works better than roots()? Seems nonsensical. On the other hand roots() find both and my function only first the first one it stumbles across, so this is an unfair comparison."
   ]
  },
  {
   "cell_type": "markdown",
   "metadata": {},
   "source": [
    "### Exercise 5 (Advanced)\n",
    "\n",
    "The [trapezoidal rule](https://en.wikipedia.org/wiki/Trapezoidal_rule)  approximate an integral with\n",
    "\n",
    "$$\n",
    "\\int_\\underline{x}^\\bar{x} f(x) \\, dx \\approx \\sum_{n=1}^N \\frac{f(x_{n-1}) + f(x_n)}{2} \\Delta x_n\n",
    "$$\n",
    "\n",
    "where $ x_0 = \\underline{x},\\, x_N = \\bar{x} $, and $ \\Delta x_n \\equiv x_{n-1} - x_n $\n",
    "\n",
    "Given an `x` and a function `f`, implement a few variations of the trapezoidal rule using multiple-dispatch\n",
    "\n",
    "- `trapezoidal(f, x)` for any `typeof(x) = AbstractArray` and `typeof(f) == AbstractArray` where `length(x) = length(f)`  \n",
    "- `trapezoidal(f, x)` for any `typeof(x) = AbstractRange` and `typeof(f) == AbstractArray` where `length(x) = length(f)`\n",
    "  * exploit the fact that `AbstractRange` have constant step sizes to specialize the algorithm  \n",
    "- `trapezoidal(f, x̲, x̄, N)` where `typeof(f) = Function`, and the other arguments are `Real`\n",
    "  * for this, build a uniform grid with `N` points on `[x̲,x̄]`, call the `f` function at those grid points, and use the existing `trapezoidal(f, x)` from the implementation  "
   ]
  },
  {
   "cell_type": "code",
   "execution_count": 8,
   "metadata": {},
   "outputs": [
    {
     "data": {
      "text/plain": [
       "trapezoidal (generic function with 1 method)"
      ]
     },
     "execution_count": 8,
     "metadata": {},
     "output_type": "execute_result"
    }
   ],
   "source": [
    "function trapezoidal(f::AbstractArray, x::AbstractArray)\n",
    "    @assert length(x)==length(f)\n",
    "    est = 0.0\n",
    "    for n in 2:length(x)\n",
    "        est += ( ( f[n-1]+f[n] ) / 2 ) * (x[n] - x[n-1])\n",
    "    end\n",
    "    est\n",
    "end"
   ]
  },
  {
   "cell_type": "code",
   "execution_count": 9,
   "metadata": {},
   "outputs": [
    {
     "data": {
      "text/plain": [
       "trapezoidal (generic function with 2 methods)"
      ]
     },
     "execution_count": 9,
     "metadata": {},
     "output_type": "execute_result"
    }
   ],
   "source": [
    "function trapezoidal(f::AbstractArray, x::AbstractRange)\n",
    "    @assert length(x)==length(f)\n",
    "    est = 0.0\n",
    "    for n in 2:length(x)\n",
    "        est += ( ( f[n-1]+f[n] ) / 2 ) * step(x)\n",
    "    end\n",
    "    est\n",
    "end"
   ]
  },
  {
   "cell_type": "code",
   "execution_count": 10,
   "metadata": {},
   "outputs": [
    {
     "data": {
      "text/plain": [
       "trapezoidal (generic function with 3 methods)"
      ]
     },
     "execution_count": 10,
     "metadata": {},
     "output_type": "execute_result"
    }
   ],
   "source": [
    "function trapezoidal(f::Function, x̲::Real, x̄::Real, N::Real)\n",
    "    grid = range(x̲, stop=x̄, length=N)\n",
    "    f_array = f.(grid)\n",
    "    trapezoidal(f_array, grid)\n",
    "end"
   ]
  },
  {
   "cell_type": "markdown",
   "metadata": {},
   "source": [
    "**1. Test each variation of the function with $ f(x) = x^2 $ with $ \\underline{x}=0,\\, \\bar{x} = 1 $**"
   ]
  },
  {
   "cell_type": "code",
   "execution_count": 11,
   "metadata": {},
   "outputs": [
    {
     "name": "stdout",
     "output_type": "stream",
     "text": [
      "trapezoidal(f_array, x_array) = 0.33335000000000004\n",
      "trapezoidal(f_array, x_range) = 0.3333499999999999\n",
      "trapezoidal(f, x̲, x̄, 101) = 0.3333499999999999\n"
     ]
    }
   ],
   "source": [
    "f(x) = x^2\n",
    "x̲ = 0.0; x̄=1.0;\n",
    "x_range = range(x̲, x̄, step=0.01)\n",
    "x_array = collect(x_range)\n",
    "f_array = f.(x_array)\n",
    "\n",
    "@show trapezoidal(f_array, x_array)\n",
    "@show trapezoidal(f_array, x_range)\n",
    "@show trapezoidal(f, x̲, x̄, 101);"
   ]
  },
  {
   "cell_type": "markdown",
   "metadata": {},
   "source": [
    "**2. From the analytical solution of the function, plot the error of `trapezoidal(f, x̲, x̄, N)` relative to the analytical solution for a grid of different `N` values**"
   ]
  },
  {
   "cell_type": "markdown",
   "metadata": {},
   "source": [
    "$$\\int_0^1 x^2 dx = \\frac{x^3}{3}\\big{|}_0^1 = \\frac{1}{3}$$"
   ]
  },
  {
   "cell_type": "code",
   "execution_count": 12,
   "metadata": {},
   "outputs": [
    {
     "data": {
      "image/png": "[encoded data removed]"
     },
     "execution_count": 12,
     "metadata": {},
     "output_type": "execute_result"
    }
   ],
   "source": [
    "n_grid = collect(5:1:101)\n",
    "\n",
    "plot(n_grid, trapezoidal.(f, x̲, x̄, n_grid) .- 1//3, label = \"estimation error\")"
   ]
  },
  {
   "cell_type": "markdown",
   "metadata": {},
   "source": [
    "**3. Consider trying different functions for $ f(x) $ and comparing the solutions for various `N`.** When trying different functions, instead of integrating by hand consider using a high-accuracy library for numerical integration such as [QuadGK.jl](https://juliamath.github.io/QuadGK.jl/latest/)"
   ]
  },
  {
   "cell_type": "code",
   "execution_count": 13,
   "metadata": {},
   "outputs": [
    {
     "data": {
      "text/plain": [
       "3-element Array{Tuple{Float64,Float64},1}:\n",
       " (0.3333333333333333, 5.551115123125783e-17)\n",
       " (0.1666666666666667, 0.0)                  \n",
       " (1.718281828459045, 0.0)                   "
      ]
     },
     "execution_count": 13,
     "metadata": {},
     "output_type": "execute_result"
    }
   ],
   "source": [
    "using QuadGK\n",
    "f(x) = x^2\n",
    "g(x) = p(x)\n",
    "h(x) = exp(x)\n",
    "my_fctns(x) = [f, g, h]\n",
    "\n",
    "quadgk.(my_fctns(x), 0.0, 1.0)"
   ]
  },
  {
   "cell_type": "code",
   "execution_count": 14,
   "metadata": {},
   "outputs": [
    {
     "data": {
      "image/png": "[encoded data removed]"
     },
     "execution_count": 14,
     "metadata": {},
     "output_type": "execute_result"
    }
   ],
   "source": [
    "plot(n_grid, trapezoidal.(f, x̲, x̄, n_grid) .- quadgk(f, x̲, x̄)[1], label = \"x^2 error\")\n",
    "plot!(n_grid, trapezoidal.(g, x̲, x̄, n_grid) .- quadgk(p, x̲, x̄)[1], label = \"p(x) error\")\n",
    "plot!(n_grid, trapezoidal.(h, x̲, x̄, n_grid) .- quadgk(exp, x̲, x̄)[1], label = \"e^x error\")"
   ]
  },
  {
   "cell_type": "markdown",
   "metadata": {},
   "source": [
    "### Exercise 6 (Advanced)\n",
    "\n",
    "Take a variation of your code in Exercise 5 which implements the trapezoidal rule for the uniform grid\n",
    "\n",
    "Use auto-differentiation to calculate the following derivative for the example functions\n",
    "\n",
    "$$\n",
    "\\frac{d}{d \\bar{x}}\\int_\\underline{x}^\\bar{x} f(x) \\, dx\n",
    "$$"
   ]
  },
  {
   "cell_type": "code",
   "execution_count": 15,
   "metadata": {},
   "outputs": [
    {
     "data": {
      "text/plain": [
       "Df (generic function with 1 method)"
      ]
     },
     "execution_count": 15,
     "metadata": {},
     "output_type": "execute_result"
    }
   ],
   "source": [
    "function f2(a, b; N = 50)\n",
    "    r = range(a, b, length=N) # one\n",
    "return mean(r)\n",
    "end\n",
    "Df(x) = ForwardDiff.derivative(y -> f2(0.0, y), x)"
   ]
  },
  {
   "cell_type": "code",
   "execution_count": 18,
   "metadata": {},
   "outputs": [
    {
     "data": {
      "text/plain": [
       "0.5"
      ]
     },
     "execution_count": 18,
     "metadata": {},
     "output_type": "execute_result"
    }
   ],
   "source": [
    "Df(4)"
   ]
  },
  {
   "cell_type": "markdown",
   "metadata": {},
   "source": [
    "Comment: It doesn't really make sense to name my new method Df too, because it calculates something different, but I'm going to do it anyway to force myself to write in a manner that makes multiple dispatch work and adheres to decent generic programming style. But changed name of example f to f2 so it wouldn't overwrite my old f from problem 5, which I use to test the new Df method."
   ]
  },
  {
   "cell_type": "code",
   "execution_count": 31,
   "metadata": {},
   "outputs": [
    {
     "data": {
      "text/plain": [
       "Df (generic function with 2 methods)"
      ]
     },
     "execution_count": 31,
     "metadata": {},
     "output_type": "execute_result"
    }
   ],
   "source": [
    "function Df(x̄, f::Function; x̲=0.0, N=50)\n",
    "    x̲ != 0.0 ? a = x̲ : a = zero(x̄) \n",
    "    ForwardDiff.derivative(b -> trapezoidal(f, a, b, N), x̄)\n",
    "end"
   ]
  },
  {
   "cell_type": "markdown",
   "metadata": {},
   "source": [
    "Noticing that the test functions from problem 5 are all continuous, by the fundamental theorem of calculus part one, we should consistently find that $\\frac{d}{d\\bar{x}}\\int_{\\underline{x}}^{\\bar{x}}f(x)dx = f(\\bar{x}) \\forall \\underline{x}, \\bar{x}$.\n",
    "\n",
    "Recall that $f(x) = x^2; g(x) = 2-5x+2x^2; h(x) = e^x$."
   ]
  },
  {
   "cell_type": "code",
   "execution_count": 34,
   "metadata": {},
   "outputs": [
    {
     "name": "stdout",
     "output_type": "stream",
     "text": [
      "Df(5.0, f) = 25.00520616409829\n",
      "f(5.0) = 25.0\n",
      "Df(3.0, g, N=100) = 5.0009182736455475\n",
      "g(3.0) = 5.0\n",
      "Df(10.0, h, x̲=3) = 22074.598856939272\n",
      "h(10.0) = 22026.465794806718\n"
     ]
    }
   ],
   "source": [
    "@show Df(5.0, f)\n",
    "@show f(5.0)\n",
    "@show Df(3.0, g, N=100)\n",
    "@show g(3.0)\n",
    "@show Df(10.0, h, x̲=3)\n",
    "@show h(10.0);"
   ]
  },
  {
   "cell_type": "markdown",
   "metadata": {},
   "source": [
    "The approximations aren't perfect enough for \\approx, but this looks pretty good."
   ]
  }
 ],
 "metadata": {
  "filename": "introduction_to_types.rst",
  "kernelspec": {
   "display_name": "Julia 1.0.1",
   "language": "julia",
   "name": "julia-1.0"
  },
  "language_info": {
   "file_extension": ".jl",
   "mimetype": "application/julia",
   "name": "julia",
   "version": "1.0.1"
  },
  "title": "Introduction to Types and Generic Programming"
 },
 "nbformat": 4,
 "nbformat_minor": 2
}
